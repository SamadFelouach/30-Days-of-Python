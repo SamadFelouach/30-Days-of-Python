{
 "cells": [
  {
   "cell_type": "markdown",
   "metadata": {
    "scrolled": true
   },
   "source": [
    "# Functions Cocept"
   ]
  },
  {
   "cell_type": "code",
   "execution_count": null,
   "metadata": {},
   "outputs": [],
   "source": [
    "#exemple input function\n",
    "x=input(\"insert your first name \")\n",
    "y=input(\"insert your last name\")\n",
    "print(\"hello mr \" + x +\" \" +y)"
   ]
  },
  {
   "cell_type": "code",
   "execution_count": 5,
   "metadata": {},
   "outputs": [],
   "source": [
    "#function syntaxe\n",
    "def add(a,b) :\n",
    "    z= x+y \n",
    "    return z"
   ]
  },
  {
   "cell_type": "code",
   "execution_count": 13,
   "metadata": {},
   "outputs": [
    {
     "name": "stdout",
     "output_type": "stream",
     "text": [
      "insert your first value 49\n",
      "insert your second  value44\n"
     ]
    },
    {
     "data": {
      "text/plain": [
       "'result is 4944'"
      ]
     },
     "execution_count": 13,
     "metadata": {},
     "output_type": "execute_result"
    }
   ],
   "source": [
    "#call function\n",
    "x=input(\"insert your first value \")\n",
    "y=input(\"insert your second  value\")\n",
    "\"result is \" + add(x,y)"
   ]
  },
  {
   "cell_type": "code",
   "execution_count": 16,
   "metadata": {},
   "outputs": [
    {
     "data": {
      "text/plain": [
       "113.0"
      ]
     },
     "execution_count": 16,
     "metadata": {},
     "output_type": "execute_result"
    }
   ],
   "source": [
    "def tem(c):\n",
    "    f=int(c)*(9/5)+32\n",
    "    return f\n",
    "#call function\n",
    "tem(45)"
   ]
  },
  {
   "cell_type": "code",
   "execution_count": 57,
   "metadata": {},
   "outputs": [],
   "source": [
    "#odd and even number\n",
    "def chechoddnumber(x):\n",
    "    if(x % 2)==0:\n",
    "        return  print(\"{0} is even number\".format(x))  \n",
    "    else:\n",
    "        return  print(\"{0} is odd number\".format(x))  \n",
    "\n"
   ]
  },
  {
   "cell_type": "code",
   "execution_count": 60,
   "metadata": {},
   "outputs": [
    {
     "name": "stdout",
     "output_type": "stream",
     "text": [
      "insert a number to check86\n",
      "86 is even number\n"
     ]
    }
   ],
   "source": [
    "y= input(\"insert a number to check\")\n",
    "y = int(y)\n",
    "chechoddnumber(y)\n"
   ]
  },
  {
   "cell_type": "code",
   "execution_count": null,
   "metadata": {},
   "outputs": [],
   "source": []
  },
  {
   "cell_type": "code",
   "execution_count": null,
   "metadata": {},
   "outputs": [],
   "source": []
  }
 ],
 "metadata": {
  "kernelspec": {
   "display_name": "Python 3",
   "language": "python",
   "name": "python3"
  },
  "language_info": {
   "codemirror_mode": {
    "name": "ipython",
    "version": 3
   },
   "file_extension": ".py",
   "mimetype": "text/x-python",
   "name": "python",
   "nbconvert_exporter": "python",
   "pygments_lexer": "ipython3",
   "version": "3.7.4"
  }
 },
 "nbformat": 4,
 "nbformat_minor": 2
}
